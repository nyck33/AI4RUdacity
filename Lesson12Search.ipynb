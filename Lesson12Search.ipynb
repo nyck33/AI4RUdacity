{
 "cells": [
  {
   "cell_type": "code",
   "execution_count": 8,
   "metadata": {},
   "outputs": [
    {
     "data": {
      "text/html": [
       "<style>.container { width:100% !important; }</style>"
      ],
      "text/plain": [
       "<IPython.core.display.HTML object>"
      ]
     },
     "metadata": {},
     "output_type": "display_data"
    }
   ],
   "source": [
    "from IPython.core.display import display, HTML\n",
    "display(HTML(\"<style>.container { width:100% !important; }</style>\"))"
   ]
  },
  {
   "cell_type": "code",
   "execution_count": null,
   "metadata": {},
   "outputs": [],
   "source": [
    "# ----------\n",
    "# User Instructions:\n",
    "# \n",
    "# Define a function, search() that returns a list\n",
    "# in the form of [optimal path length, row, col]. For\n",
    "# the grid shown below, your function should output\n",
    "# [11, 4, 5].\n",
    "#\n",
    "# If there is no valid path from the start point\n",
    "# to the goal, your function should return the string\n",
    "# 'fail'\n",
    "# ----------\n",
    "\n",
    "# Grid format:\n",
    "#   0 = Navigable space\n",
    "#   1 = Occupied space\n",
    "\n",
    "\n",
    "grid = [[0, 0, 1, 0, 0, 0],\n",
    "        [0, 0, 1, 0, 0, 0],\n",
    "        [0, 0, 0, 0, 1, 0],\n",
    "        [0, 0, 1, 1, 1, 0],\n",
    "        [0, 0, 0, 0, 1, 0]]\n",
    "\n",
    "grid2 = [[0,0,0],\n",
    "         [0,1,1],\n",
    "         [0,0,0]]\n",
    "\n",
    "init = [0, 0]\n",
    "goal = [len(grid)-1, len(grid[0])-1]\n",
    "cost = 1\n",
    "\n",
    "delta = [[-1, 0], # go up\n",
    "         [ 0,-1], # go left\n",
    "         [ 1, 0], # go down\n",
    "         [ 0, 1]] # go right\n",
    "\n",
    "delta_name = ['^', '<', 'v', '>']\n",
    "\n",
    "visited = grid[:]\n",
    "visited[:] = [[0] * len(visited[0]) for _ in range(len(visited))]\n",
    "print(visited)\n",
    "\n",
    "visited2 = grid2[:]\n",
    "visited2[:]= [[0] * len(visited2[0]) for _ in range(len(visited2))]\n",
    "print(visited2)\n",
    "\n",
    "def search(grid,init,goal,cost,visited):\n",
    "    '''\n",
    "    Try iteratively to move to next level, mark visited2, add to list of next level starting points if \n",
    "    it's a new node\n",
    "    '''\n",
    "    print(\"grid: {}\\n\".format(grid))\n",
    "    print(\"visited: {}\\n\".format(visited))\n",
    "    #list of lists of levels\n",
    "    path = [[init]] #dummy\n",
    "    curr_cell = init\n",
    "    #try each of curr_level to find possible moves\n",
    "    curr_level =[]\n",
    "    #append possible move-to cells to next_level\n",
    "    next_level = []\n",
    "    # how many moves to get to goal\n",
    "    num_moves = 0\n",
    "    # counters\n",
    "    i,j,k,l = 0,0,0,0\n",
    "    #flag to break outer while loop\n",
    "    get_out = False\n",
    "    while(get_out==False):\n",
    "        # set curr_level\n",
    "        curr_level = [x[:] for x in path[i]]\n",
    "        print(\"i: {} curr_level: {}\\n\".format(i, curr_level))\n",
    "        #iterate curr_level to find moves for each cell in curr_level\n",
    "        #append to next_level\n",
    "        for j in range(len(curr_level)):\n",
    "            #iterate level and set each cell to curr_cell\n",
    "            curr_cell = curr_level[j]\n",
    "            print(\"j: {} curr_cell: {}\".format(j, curr_cell))\n",
    "            #check if curr_cell is goal then break inner loop\n",
    "            if curr_cell == goal:\n",
    "                get_out = True\n",
    "                break\n",
    "            row = curr_cell[0]\n",
    "            col = curr_cell[1]\n",
    "            #try up\n",
    "            if row-1 >=0 and visited[row-1][col]!=1:\n",
    "                #append to next level\n",
    "                next_level.append([row-1, col])\n",
    "                #mark as visited\n",
    "                visited[row-1][col]=1\n",
    "            # try left\n",
    "            if col-1 >=0 and visited[row][col-1]!=1:\n",
    "                #append to next level\n",
    "                next_level.append([row, col-1])\n",
    "                #mark as visited\n",
    "                visited[row][col-1]=1   \n",
    "            # try down\n",
    "            if row +1 < len(grid) and visited[row+1][col]!=1:\n",
    "                #append to next level\n",
    "                next_level.append([row+1, col])\n",
    "                #mark as visited\n",
    "                visited[row+1][col]=1    \n",
    "            # try up\n",
    "            if col+1 < len(grid[0]) and visited[row][col+1]!=1:\n",
    "                #append to next level\n",
    "                next_level.append([row, col+1])\n",
    "                #mark as visited\n",
    "                visited[row][col+1]=1\n",
    "        # done iterating, append next level to path\n",
    "        path.append(next_level)\n",
    "        print(\"path w/next_level: {}\\n\".format(path))\n",
    "        # reset next_level\n",
    "        next_level[:]=[]\n",
    "        #increment counter\n",
    "        i +=1\n",
    "    \n",
    "    #found curr_cell== goal in curr_level without appending next_level\n",
    "    #so len(path) for num moves\n",
    "    num_moves = len(path)\n",
    "    # set path to format [optimal path length, row, col]\n",
    "    path = [num_moves, curr_cell[0], curr_cell[1]]\n",
    "            \n",
    "    return path\n",
    "\n"
   ]
  },
  {
   "cell_type": "code",
   "execution_count": null,
   "metadata": {},
   "outputs": [],
   "source": [
    "path2 = search(grid2, init, goal, cost, visited2)\n",
    "print(\"path: \", path)"
   ]
  },
  {
   "cell_type": "code",
   "execution_count": 7,
   "metadata": {},
   "outputs": [
    {
     "name": "stdout",
     "output_type": "stream",
     "text": [
      "[0, 0]\n"
     ]
    },
    {
     "ename": "NameError",
     "evalue": "name 'path' is not defined",
     "output_type": "error",
     "traceback": [
      "\u001b[0;31m---------------------------------------------------------------------------\u001b[0m",
      "\u001b[0;31mNameError\u001b[0m                                 Traceback (most recent call last)",
      "\u001b[0;32m<ipython-input-7-76775d73c08c>\u001b[0m in \u001b[0;36m<module>\u001b[0;34m\u001b[0m\n\u001b[0;32m----> 1\u001b[0;31m \u001b[0mpath2\u001b[0m \u001b[0;34m=\u001b[0m \u001b[0msearch\u001b[0m\u001b[0;34m(\u001b[0m\u001b[0mgrid2\u001b[0m\u001b[0;34m,\u001b[0m \u001b[0minit\u001b[0m\u001b[0;34m,\u001b[0m \u001b[0mgoal\u001b[0m\u001b[0;34m,\u001b[0m \u001b[0mcost\u001b[0m\u001b[0;34m)\u001b[0m\u001b[0;34m\u001b[0m\u001b[0;34m\u001b[0m\u001b[0m\n\u001b[0m\u001b[1;32m      2\u001b[0m \u001b[0mprint\u001b[0m\u001b[0;34m(\u001b[0m\u001b[0;34m\"path2: \"\u001b[0m\u001b[0;34m,\u001b[0m \u001b[0mpath2\u001b[0m\u001b[0;34m)\u001b[0m\u001b[0;34m\u001b[0m\u001b[0;34m\u001b[0m\u001b[0m\n",
      "\u001b[0;32m<ipython-input-5-c97437ca591b>\u001b[0m in \u001b[0;36msearch\u001b[0;34m(grid, init, goal, cost)\u001b[0m\n\u001b[1;32m     53\u001b[0m     \u001b[0mprint\u001b[0m\u001b[0;34m(\u001b[0m\u001b[0mcurr_cell\u001b[0m\u001b[0;34m)\u001b[0m\u001b[0;34m\u001b[0m\u001b[0;34m\u001b[0m\u001b[0m\n\u001b[1;32m     54\u001b[0m \u001b[0;34m\u001b[0m\u001b[0m\n\u001b[0;32m---> 55\u001b[0;31m     \u001b[0;32mreturn\u001b[0m \u001b[0mpath\u001b[0m\u001b[0;34m\u001b[0m\u001b[0;34m\u001b[0m\u001b[0m\n\u001b[0m\u001b[1;32m     56\u001b[0m \u001b[0;34m\u001b[0m\u001b[0m\n",
      "\u001b[0;31mNameError\u001b[0m: name 'path' is not defined"
     ]
    }
   ],
   "source": [
    "path2 = search(grid2, init, goal, cost)\n",
    "print(\"path2: \", path2)"
   ]
  },
  {
   "cell_type": "code",
   "execution_count": null,
   "metadata": {},
   "outputs": [],
   "source": []
  },
  {
   "cell_type": "code",
   "execution_count": null,
   "metadata": {},
   "outputs": [],
   "source": []
  }
 ],
 "metadata": {
  "kernelspec": {
   "display_name": "Python 3",
   "language": "python",
   "name": "python3"
  },
  "language_info": {
   "codemirror_mode": {
    "name": "ipython",
    "version": 3
   },
   "file_extension": ".py",
   "mimetype": "text/x-python",
   "name": "python",
   "nbconvert_exporter": "python",
   "pygments_lexer": "ipython3",
   "version": "3.6.9"
  }
 },
 "nbformat": 4,
 "nbformat_minor": 2
}
